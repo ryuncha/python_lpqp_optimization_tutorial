{
 "cells": [
  {
   "cell_type": "code",
   "execution_count": 1,
   "metadata": {},
   "outputs": [
    {
     "name": "stdout",
     "output_type": "stream",
     "text": [
      "2\n",
      "2\n",
      "16.0\n",
      "Feasible\n",
      "x1 = 6.000000\n",
      "x2 = 4.000000\n"
     ]
    }
   ],
   "source": [
    "# Author : Jiwon Cha\n",
    "# email : ryunx21@gmail.com\n",
    "\n",
    "from ortools.linear_solver import pywraplp\n",
    "\n",
    "# 이외에 사용가능한 내장 솔버 \n",
    "# pywraplp.Solver.CLP_LINEAR_PROGRAMMING\n",
    "# solver.BOP_INTEGER_PROGRAMMING\n",
    "# solver.GLOP_LINEAR_PROGRAMMING\n",
    "solver = pywraplp.Solver('my_lp_tutorial',\n",
    "                         pywraplp.Solver.CBC_MIXED_INTEGER_PROGRAMMING)\n",
    "\n",
    "# 변수 선언\n",
    "x1 = solver.NumVar(lb=0, ub=solver.infinity(), name='x1')\n",
    "x2 = solver.NumVar(lb=0, ub=solver.infinity(), name='x2')\n",
    "\n",
    "# 제약 조건 1 : x1 - x2 >= 2\n",
    "# >=2를 표현하기 위해 upper bound=inf, lower bound=2\n",
    "constraint1 = solver.Constraint(2, solver.infinity())\n",
    "constraint1.SetCoefficient(x1, 1)\n",
    "constraint1.SetCoefficient(x2, -1)\n",
    "\n",
    "# 제약 조건 2 : x1+x2=10\n",
    "# 등식을 표현하기 위해 ub=lb=10\n",
    "constraint2 = solver.Constraint(10, 10)\n",
    "constraint2.SetCoefficient(x1, 1)\n",
    "constraint2.SetCoefficient(x2, 1)\n",
    "\n",
    "# 목적 함수\n",
    "# minimize 2*x1+x2\n",
    "obj = solver.Objective()\n",
    "obj.SetCoefficient(x1, 2)\n",
    "obj.SetCoefficient(x2, 1)\n",
    "obj.SetMinimization()\n",
    "\n",
    "# 풀이 수행\n",
    "result = solver.Solve()\n",
    "\n",
    "print(solver.NumVariables())\n",
    "print(solver.NumConstraints())\n",
    "print(solver.Objective().Value())\n",
    "\n",
    "# 결과 출력\n",
    "if solver.FEASIBLE >0:\n",
    "    print('Feasible')\n",
    "\n",
    "for variable in [x1, x2]:\n",
    "    print('%s = %f' % (variable.name(), variable.solution_value()))\n"
   ]
  }
 ],
 "metadata": {
  "kernelspec": {
   "display_name": "Python 3",
   "language": "python",
   "name": "python3"
  },
  "language_info": {
   "codemirror_mode": {
    "name": "ipython",
    "version": 3
   },
   "file_extension": ".py",
   "mimetype": "text/x-python",
   "name": "python",
   "nbconvert_exporter": "python",
   "pygments_lexer": "ipython3",
   "version": "3.7.3"
  }
 },
 "nbformat": 4,
 "nbformat_minor": 2
}
