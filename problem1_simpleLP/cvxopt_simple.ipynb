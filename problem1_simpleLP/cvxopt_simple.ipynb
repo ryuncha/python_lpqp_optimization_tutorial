{
 "cells": [
  {
   "cell_type": "markdown",
   "metadata": {},
   "source": [
    "# simple LP \n",
    "## : CVXOPT\n",
    "\n",
    "- Cvxopt는 modeling 함수를 통해 symbolic form도 구현 가능합니다\n",
    "- 간단한 LP 예시\n",
    "- 작성자 : 차지원 (ryunx21@gmail.com)\n",
    "- 발표자료 : https://www.slideshare.net/JiwonCha3/pyconkr-2019-164237844\n",
    "\n",
    "![ex_screenshot](../image/matrix_lp.png)"
   ]
  },
  {
   "cell_type": "code",
   "execution_count": 1,
   "metadata": {},
   "outputs": [
    {
     "name": "stdout",
     "output_type": "stream",
     "text": [
      "     pcost       dcost       gap    pres   dres   k/t\n",
      " 0:  2.6471e+00 -7.0588e-01  2e+01  8e-01  2e+00  1e+00\n",
      " 1:  3.0726e+00  2.8437e+00  1e+00  1e-01  2e-01  3e-01\n",
      " 2:  2.4891e+00  2.4808e+00  1e-01  1e-02  2e-02  5e-02\n",
      " 3:  2.4999e+00  2.4998e+00  1e-03  1e-04  2e-04  5e-04\n",
      " 4:  2.5000e+00  2.5000e+00  1e-05  1e-06  2e-06  5e-06\n",
      " 5:  2.5000e+00  2.5000e+00  1e-07  1e-08  2e-08  5e-08\n",
      "Optimal solution found.\n",
      "[ 5.00e-01]\n",
      "[ 1.50e+00]\n",
      "\n"
     ]
    }
   ],
   "source": [
    "# Source : https://cvxopt.org/examples/tutorial/lp.html\n",
    "# 수정 : 차지원 (ryunx21@gmail.com)\n",
    "\n",
    "from cvxopt import matrix, solvers\n",
    "G = matrix([ [-1.0, -1.0, 0.0, 1.0], \n",
    "            [1.0, -1.0, -1.0, -2.0] ])\n",
    "h = matrix([ 1.0, -2.0, 0.0, 4.0 ])\n",
    "c = matrix([ 2.0, 1.0 ])\n",
    "sol=solvers.lp(c=c,G=G,h=h)\n",
    "\n",
    "print(sol['x'])\n",
    "#[ 5.00e-01]\n",
    "#[ 1.50e+00]"
   ]
  }
 ],
 "metadata": {
  "kernelspec": {
   "display_name": "Python 3",
   "language": "python",
   "name": "python3"
  },
  "language_info": {
   "codemirror_mode": {
    "name": "ipython",
    "version": 3
   },
   "file_extension": ".py",
   "mimetype": "text/x-python",
   "name": "python",
   "nbconvert_exporter": "python",
   "pygments_lexer": "ipython3",
   "version": "3.7.3"
  }
 },
 "nbformat": 4,
 "nbformat_minor": 2
}
