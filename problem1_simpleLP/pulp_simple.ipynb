{
 "cells": [
  {
   "cell_type": "code",
   "execution_count": 1,
   "metadata": {},
   "outputs": [
    {
     "name": "stdout",
     "output_type": "stream",
     "text": [
      "Simple LP:\n",
      "MINIMIZE\n",
      "2*x1 + 1*x2 + 0\n",
      "SUBJECT TO\n",
      "My_equality_contraint: x1 + x2 = 10\n",
      "\n",
      "My_inequality_contraint: x1 - x2 >= 2\n",
      "\n",
      "VARIABLES\n",
      "x1 Continuous\n",
      "x2 Continuous\n",
      "\n",
      "status: Optimal\n",
      "x1:  6.0\n",
      "x2:  4.0\n"
     ]
    }
   ],
   "source": [
    "from pulp import *\n",
    "\n",
    "prob = LpProblem(\"Simple LP\", LpMinimize)\n",
    "\n",
    "x1 = LpVariable(\"x1\", lowBound=0, upBound=None)\n",
    "x2 = LpVariable(\"x2\", lowBound=0, upBound=None)\n",
    "\n",
    "# 목적함수를 먼저 prob에 추가합니다.\n",
    "prob += lpSum(2 * x1 + x2), \"My Objective Function\"\n",
    "\n",
    "# 그 다음, 제약조건을 prob에 추가합니다.\n",
    "prob += lpSum(x1 + x2) == 10, \"My equality contraint\"\n",
    "prob += lpSum(x1 - x2) >= 2, \"My inequality contraint\"\n",
    "\n",
    "print(prob)\n",
    "\n",
    "\n",
    "prob.solve()\n",
    "print(\"status:\", LpStatus[prob.status])\n",
    "\n",
    "print('x1: ',value(x1))\n",
    "print('x2: ', value(x2))"
   ]
  }
 ],
 "metadata": {
  "kernelspec": {
   "display_name": "Python 3",
   "language": "python",
   "name": "python3"
  },
  "language_info": {
   "codemirror_mode": {
    "name": "ipython",
    "version": 3
   },
   "file_extension": ".py",
   "mimetype": "text/x-python",
   "name": "python",
   "nbconvert_exporter": "python",
   "pygments_lexer": "ipython3",
   "version": "3.7.3"
  }
 },
 "nbformat": 4,
 "nbformat_minor": 2
}
