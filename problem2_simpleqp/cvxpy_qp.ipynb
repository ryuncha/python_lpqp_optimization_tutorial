{
 "cells": [
  {
   "cell_type": "code",
   "execution_count": 1,
   "metadata": {},
   "outputs": [],
   "source": [
    "import cvxpy as cp\n",
    "# 변수 선언, 2개의 변수를 한번에 선언 가능!\n",
    "x = cp.Variable(2)\n",
    "\n",
    "# 목적함수, DCP rule에 따라 제곱식은 cp.square()으로 표현\n",
    "obj = cp.Minimize(\n",
    "    2 * cp.square(x[0]) + cp.square(x[1]) \n",
    "    - 16 * x[0] - 6 * x[1])\n",
    "\n",
    "# 제약조건, 나열식으로 1개 List에 추가합니다. \n",
    "# 모두 가능 <=, ==, >=, <, >\n",
    "constraints = [\n",
    "    x >= 0, \n",
    "    x[0]+x[1]==10, \n",
    "    x[0]-x[1]>=2]\n",
    "\n",
    "prob = cp.Problem(obj, constraints)"
   ]
  },
  {
   "cell_type": "code",
   "execution_count": 2,
   "metadata": {},
   "outputs": [
    {
     "data": {
      "text/plain": [
       "-31.999999999999986"
      ]
     },
     "execution_count": 2,
     "metadata": {},
     "output_type": "execute_result"
    }
   ],
   "source": [
    "# 최적 결과에서 목적함수 값 -31.999999999999986\n",
    "prob.solve()"
   ]
  },
  {
   "cell_type": "code",
   "execution_count": 3,
   "metadata": {},
   "outputs": [
    {
     "data": {
      "text/plain": [
       "array([6., 4.])"
      ]
     },
     "execution_count": 3,
     "metadata": {},
     "output_type": "execute_result"
    }
   ],
   "source": [
    "# 최적 결과에서 결정변수 값\n",
    "x.value"
   ]
  }
 ],
 "metadata": {
  "kernelspec": {
   "display_name": "Python 3",
   "language": "python",
   "name": "python3"
  },
  "language_info": {
   "codemirror_mode": {
    "name": "ipython",
    "version": 3
   },
   "file_extension": ".py",
   "mimetype": "text/x-python",
   "name": "python",
   "nbconvert_exporter": "python",
   "pygments_lexer": "ipython3",
   "version": "3.7.3"
  }
 },
 "nbformat": 4,
 "nbformat_minor": 2
}
