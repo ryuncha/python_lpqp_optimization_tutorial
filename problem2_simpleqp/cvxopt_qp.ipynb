{
 "cells": [
  {
   "cell_type": "code",
   "execution_count": null,
   "metadata": {},
   "outputs": [],
   "source": [
    "# simple QP \n",
    "\n",
    "- 간단한 QP 예시\n",
    "- \n",
    "- 작성자 : 차지원 (ryunx21@gmail.com)\n",
    "- 발표자료 : https://www.slideshare.net/JiwonCha3/pyconkr-2019-164237844\n",
    "\n",
    "![ex_screenshot](../image/matrix_lp.png)"
   ]
  },
  {
   "cell_type": "code",
   "execution_count": 1,
   "metadata": {},
   "outputs": [
    {
     "name": "stdout",
     "output_type": "stream",
     "text": [
      "     pcost       dcost       gap    pres   dres\n",
      " 0: -2.4583e+01 -2.3139e+01  3e+01  2e+00  8e-01\n",
      " 1: -1.9136e+01 -2.1713e+01  3e+00  5e-16  1e-16\n",
      " 2: -1.9979e+01 -2.0018e+01  4e-02  0e+00  2e-16\n",
      " 3: -2.0000e+01 -2.0000e+01  4e-04  6e-16  6e-17\n",
      " 4: -2.0000e+01 -2.0000e+01  4e-06  3e-16  6e-17\n",
      "Optimal solution found.\n",
      "[ 6.00e+00]\n",
      "[ 4.00e+00]\n",
      "\n"
     ]
    }
   ],
   "source": [
    "from cvxopt import matrix, solvers\n",
    "\n",
    "# 목적함수용 계수\n",
    "# P x^x + q + x\n",
    "P = matrix([[4.0, 0.0],\n",
    "            [0.0, 2.0]])\n",
    "q = matrix([-14.0, -6.0])\n",
    "\n",
    "# 부등식 제약함수용 계수\n",
    "# G x <= h\n",
    "G = matrix([[-1.0, -1.0, 0.0],\n",
    "            [1.0, 0.0, -1.0]])\n",
    "h = matrix([-2.0, 0.0, 0.0])\n",
    "\n",
    "# 등식 제약함수용 계수\n",
    "# A x = b\n",
    "A = matrix([[1.],\n",
    "            [1.]])\n",
    "b = matrix([10.])\n",
    "\n",
    "sol=solvers.qp(P, q, G, h, A, b)\n",
    "\n",
    "print(sol['x'])"
   ]
  }
 ],
 "metadata": {
  "kernelspec": {
   "display_name": "Python 3",
   "language": "python",
   "name": "python3"
  },
  "language_info": {
   "codemirror_mode": {
    "name": "ipython",
    "version": 3
   },
   "file_extension": ".py",
   "mimetype": "text/x-python",
   "name": "python",
   "nbconvert_exporter": "python",
   "pygments_lexer": "ipython3",
   "version": "3.7.3"
  }
 },
 "nbformat": 4,
 "nbformat_minor": 2
}
