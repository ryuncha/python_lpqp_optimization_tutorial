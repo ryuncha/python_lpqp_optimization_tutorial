{
 "cells": [
  {
   "cell_type": "markdown",
   "metadata": {
    "nbpresent": {
     "id": "34bc9e52-9cc7-4b84-9eb7-b69310832121"
    }
   },
   "source": [
    "# Demo 3 - Factory Planning\n",
    "\n",
    "Source: http://www.gurobi.com/resources/examples/factory-planning-I\n",
    "\n",
    "Reference: H. Paul Williams, Model Building in Mathematical Programming, fifth edition (Pages 255-256, 350-352)"
   ]
  },
  {
   "cell_type": "markdown",
   "metadata": {},
   "source": [
    "## Problem Description"
   ]
  },
  {
   "cell_type": "markdown",
   "metadata": {
    "nbpresent": {
     "id": "e707e591-0c39-4365-9fec-6c7687f3a21d"
    }
   },
   "source": [
    "A factory makes seven products (Prod 1 to Prod 7) using a range of machines including:\n",
    "\n",
    "- Four grinders\n",
    "- Two vertical drills\n",
    "- Three horizontal drills\n",
    "- One borer\n",
    "- One planer\n",
    "\n",
    "Each product has a defined profit contribution per unit sold (defined as the sales price per unit minus the cost of raw materials). In addition, the manufacturing of each product requires a certain amount of time on each machine (in hours). The contribution and manufacturing time value are shown below. A dash indicates the manufacturing product for the given product does not require that machine.\n",
    "\n",
    "|                        | PROD 1 | PROD 2 | PROD 3 | PROD 4 | PROD 5 | PROD 6 | PROD 7 |\n",
    "|------------------------|--------|--------|--------|--------|--------|--------|--------|\n",
    "| Contribution to profit | 10     | 6      | 8      | 4      | 11     | 9      | 3      |\n",
    "| Grinding               | 0.5    | 0.7    | -      | -      | 0.3    | 0.2    | 0.5    |\n",
    "| Vertical drilling      | 0.1    | 0.2    | -      | 0.3    | -      | 0.6    | -      |\n",
    "| Horizontal drilling    | 0.2    | -      | 0.8    | -      | -      | -      | 0.6    |\n",
    "| Boring                 | 0.05   | 0.03   |        | 0.07   | 0.1    | -      | 0.08   |\n",
    "| Planing                | -      | -      | 0.01   | -      | 0.05   | -      | 0.05   |"
   ]
  },
  {
   "cell_type": "markdown",
   "metadata": {},
   "source": [
    "In each of the six months covered by this model, one or more of the machines is scheduled to be down for maintenance and as a result will not be available to use for production that month. The maintenance schedule is as follows:\n",
    "\n",
    "| Month    | Machine                            |\n",
    "|----------|------------------------------------|\n",
    "| January  | One Grinder                        |\n",
    "| February | Two Horizontal Drills              |\n",
    "| March    | One borer                          |\n",
    "| April    | One vertical drill                 |\n",
    "| May      | One grinder and one vertical drill |\n",
    "| June     | One horizontal drill               |\n",
    "\n",
    "There limitations to how many of each product can be sold in a given month. These limits are shown below:\n",
    "\n",
    "| Month    | PROD 1 | PROD 2 | PROD 3 | PROD 4 | PROD 5 | PROD 6 | PROD 7 |\n",
    "|----------|--------|--------|--------|--------|--------|--------|--------|\n",
    "| January  | 500    | 1000   | 300    | 300    | 800    | 200    | 100    |\n",
    "| February | 600    | 500    | 200    | 0      | 400    | 300    | 150    |\n",
    "| March    | 300    | 600    | 0      | 0      | 500    | 400    | 100    |\n",
    "| April    | 200    | 300    | 400    | 500    | 200    | 0      | 100    |\n",
    "| May      | 0      | 100    | 500    | 100    | 1000   | 300    | 0      |\n",
    "| June     | 500    | 500    | 100    | 300    | 1100   | 500    | 60     |"
   ]
  },
  {
   "cell_type": "markdown",
   "metadata": {},
   "source": [
    "Up to 100 units of each product may be stored in inventory at a cost of $0.50 per unit per month. At the start of January there is no product inventory. However, by the end of June there should be 50 units of each product in inventory.\n",
    "\n",
    "The factory produces six days a week using two eight-hour shifts per day. It may be assumed that each month consists of 24 working days. Also, for the purposes of this model, there are no production sequencing issues that need to be taken into account.\n",
    "\n",
    "What should the production plan look like?"
   ]
  },
  {
   "cell_type": "markdown",
   "metadata": {},
   "source": [
    "## Model Formulation"
   ]
  },
  {
   "cell_type": "markdown",
   "metadata": {},
   "source": [
    "### Sets"
   ]
  },
  {
   "cell_type": "markdown",
   "metadata": {
    "collapsed": true
   },
   "source": [
    "Let $T$ be a set of time periods (months), where $t_0 \\in T$ is the first month and $t_e \\in T$ the last month. \n",
    "\n",
    "Let $P$ be a set of products and $M$ be a set of machines. "
   ]
  },
  {
   "cell_type": "markdown",
   "metadata": {},
   "source": [
    "### Parameters"
   ]
  },
  {
   "cell_type": "markdown",
   "metadata": {},
   "source": [
    "- For each product $p \\in P$ and each type of machine $m \\in M$ we are given the time $f_{p,m}$ (in hours) the product $p \\in P$ needs to be manufactured on the machine $m \\in M$. \n",
    "- For each month $t \\in T$ and each product $p \\in P$ we are given the upper limit on sales of $l_{t,p}$ for that product in that month.\n",
    "- For each product $p \\in P$ we are given the profit $k_p$. \n",
    "- For each month $t \\in T$ and each machine $m \\in M$ we are given the number of available machines $q_{t,m}$. \n",
    "- Each machine can work $g$ hours a month.\n",
    "- There can be $z$ products of each type stored in each month and storing costs $r$ per product per month occur."
   ]
  },
  {
   "cell_type": "markdown",
   "metadata": {},
   "source": [
    "### Variables"
   ]
  },
  {
   "cell_type": "markdown",
   "metadata": {},
   "source": [
    "For each month $t \\in T$ and each product $p \\in P$ we introduce continuous non-negative variables $b_{t,p}$, $u_{t,p}$, $s_{t,p}$.\n",
    "\n",
    "- $b_{t,p}$ describes how much we produce of the product $p$ in the month $t \\in T$. \n",
    "- $u_{t,p}$ describes how much we sell of the product $p \\in P$ in the month $t \\in T$. \n",
    "- $s_{t,p}$ describes how much we store of the product $p \\in P$ in the month $t \\in T$.\n",
    "\n",
    "$b_{t,p}, u_{t,p}, s_{t,p} \\geq 0 ~\\forall t \\in T, \\forall p \\in P$"
   ]
  },
  {
   "cell_type": "markdown",
   "metadata": {
    "collapsed": true
   },
   "source": [
    "### Objective function\n",
    "\n",
    "The objective is to maximize the profit of the company. It consists of the profit for each product minus cost for storing the unsold products. This can be stated as\n",
    "\n",
    "$$max \\sum_{t \\in T} \\sum_{p \\in P} \\left( k_p \\cdot u_{t,p} - r \\cdot s_{t,p} \\right)$$"
   ]
  },
  {
   "cell_type": "markdown",
   "metadata": {
    "collapsed": true
   },
   "source": [
    "### Constraints"
   ]
  },
  {
   "cell_type": "markdown",
   "metadata": {
    "collapsed": true
   },
   "source": [
    "The balance constraints ensure that the amount that is in the storage in the last month and the amount that get manufactured equals the amount that is sold and held for each product in the current month. This makes sure that all products in the model are manufactured in some month. The initial storage is empty.\n",
    "\n",
    "$$ s_{t-1,p} + b_{t,p} = u_{t,p} + s_{t,p} ~\\forall t \\in T \\setminus t_0,~ \\forall p \\in P$$\n",
    "$$ b_{t_0,p} = u_{t_0,p} + s_{t_0,p} ~\\forall p \\in P $$"
   ]
  },
  {
   "cell_type": "markdown",
   "metadata": {
    "collapsed": true
   },
   "source": [
    "The endstore constraints force that at the end of the last month the storage contains the specified amount of each product (a full storage).\n",
    "\n",
    "$$ s_{t_e,p} = z ~\\forall p \\in P$$"
   ]
  },
  {
   "cell_type": "markdown",
   "metadata": {
    "collapsed": true
   },
   "source": [
    "The store capacity constraints restrict the amount of each product, which can be stored in each month. At most $z = 50$ units of each product be stored in each month.\n",
    "\n",
    "$$ s_{t,p} \\leq z ~\\forall p \\in P,~\\forall t \\in T $$"
   ]
  },
  {
   "cell_type": "markdown",
   "metadata": {
    "collapsed": true
   },
   "source": [
    "The capacity constraints ensure that per month the time all products needs on a certain kind of machines is lower or equal than the available hours for that machine in that month multiplied by the number of available machines in that month. Each product needs some machine hours on different machines. Each machine is down in one or more months due to maintenance, so the number of available machines varies per month. There can be multiple machines per machine type.\n",
    "\n",
    "$$ \\sum_{p \\in P} f_{p,m} \\cdot b_{t,p} \\leq g \\cdot q_{t,m} ~\\forall t \\in T, \\forall m \\in M $$"
   ]
  },
  {
   "cell_type": "markdown",
   "metadata": {
    "collapsed": true
   },
   "source": [
    "## Python Implementation\n",
    "\n",
    "\n",
    "Import `gurobipy` module:"
   ]
  },
  {
   "cell_type": "code",
   "execution_count": 1,
   "metadata": {
    "collapsed": true
   },
   "outputs": [],
   "source": [
    "from gurobipy import *"
   ]
  },
  {
   "cell_type": "markdown",
   "metadata": {},
   "source": [
    "### Data definition"
   ]
  },
  {
   "cell_type": "markdown",
   "metadata": {
    "collapsed": true
   },
   "source": [
    "Define sets $P$, $M$ and $T$:"
   ]
  },
  {
   "cell_type": "code",
   "execution_count": 2,
   "metadata": {
    "collapsed": true
   },
   "outputs": [],
   "source": [
    "products = [\"Prod1\", \"Prod2\", \"Prod3\", \"Prod4\", \"Prod5\", \"Prod6\", \"Prod7\"]\n",
    "months = [\"Jan\", \"Feb\", \"Mar\", \"Apr\", \"May\", \"Jun\"]\n",
    "machines = [\"grinder\", \"vertDrill\", \"horiDrill\", \"borer\", \"planer\"]"
   ]
  },
  {
   "cell_type": "markdown",
   "metadata": {},
   "source": [
    "Values for parameter $k_p$ (profit contribution per product $p \\in P$):"
   ]
  },
  {
   "cell_type": "code",
   "execution_count": 3,
   "metadata": {
    "collapsed": false
   },
   "outputs": [],
   "source": [
    "profit_contribution = { \"Prod1\" : 10, \"Prod2\" : 6, \"Prod3\" : 8, \"Prod4\" : 4, \n",
    "                        \"Prod5\" : 11, \"Prod6\" : 9, \"Prod7\" : 3 }"
   ]
  },
  {
   "cell_type": "markdown",
   "metadata": {},
   "source": [
    "Alternative (shorter) definitions for `products` and `profit_contribution` using `multidict`:"
   ]
  },
  {
   "cell_type": "code",
   "execution_count": 4,
   "metadata": {
    "collapsed": false
   },
   "outputs": [],
   "source": [
    "products, profit_contribution = multidict({ \"Prod1\" : 10, \"Prod2\" : 6, \"Prod3\" : 8, \"Prod4\" : 4, \n",
    "                                            \"Prod5\" : 11, \"Prod6\" : 9, \"Prod7\" : 3 })"
   ]
  },
  {
   "cell_type": "markdown",
   "metadata": {},
   "source": [
    "Total number of machines per type:"
   ]
  },
  {
   "cell_type": "code",
   "execution_count": 5,
   "metadata": {
    "collapsed": true
   },
   "outputs": [],
   "source": [
    "qMachine = { \"grinder\" : 4, \"vertDrill\" : 2, \"horiDrill\" : 3, \"borer\" : 1, \"planer\" : 1}"
   ]
  },
  {
   "cell_type": "markdown",
   "metadata": {},
   "source": [
    "Alternative (shorter definition) for `machines` and `qMachine` using `multidict`:"
   ]
  },
  {
   "cell_type": "code",
   "execution_count": 6,
   "metadata": {
    "collapsed": true
   },
   "outputs": [],
   "source": [
    "machines, qMachine = multidict({ \"grinder\" : 4, \"vertDrill\" : 2, \"horiDrill\" : 3, \"borer\" : 1, \"planer\" : 1})"
   ]
  },
  {
   "cell_type": "markdown",
   "metadata": {},
   "source": [
    "Production time required per machine type and product ($f_{p,m}$):"
   ]
  },
  {
   "cell_type": "code",
   "execution_count": 7,
   "metadata": {
    "collapsed": true
   },
   "outputs": [],
   "source": [
    "time_table = {\n",
    "    \"grinder\": {    \"Prod1\": 0.5, \"Prod2\": 0.7, \"Prod5\": 0.3,\n",
    "                    \"Prod6\": 0.2, \"Prod7\": 0.5 },\n",
    "    \"vertDrill\": {  \"Prod1\": 0.1, \"Prod2\": 0.2, \"Prod4\": 0.3,\n",
    "                    \"Prod6\": 0.6 },\n",
    "    \"horiDrill\": {  \"Prod1\": 0.2, \"Prod3\": 0.8, \"Prod7\": 0.6 },\n",
    "    \"borer\": {      \"Prod1\": 0.05,\"Prod2\": 0.03,\"Prod4\": 0.07,\n",
    "                    \"Prod5\": 0.1, \"Prod7\": 0.08 },\n",
    "    \"planer\": {     \"Prod3\": 0.01,\"Prod5\": 0.05,\"Prod7\": 0.05 }\n",
    "}"
   ]
  },
  {
   "cell_type": "markdown",
   "metadata": {},
   "source": [
    "Number of machines down for maintenance per month and machine type:"
   ]
  },
  {
   "cell_type": "code",
   "execution_count": 8,
   "metadata": {
    "collapsed": true
   },
   "outputs": [],
   "source": [
    "down = {(\"Jan\",\"grinder\")   : 1, (\"Feb\", \"horiDrill\"): 2, (\"Mar\", \"borer\")    : 1,\n",
    "        (\"Apr\", \"vertDrill\"): 1, (\"May\", \"grinder\")  : 1, (\"May\", \"vertDrill\"): 1,\n",
    "        (\"Jun\", \"planer\")   : 1, (\"Jun\", \"horiDrill\"): 1}"
   ]
  },
  {
   "cell_type": "markdown",
   "metadata": {},
   "source": [
    "Sales limit per month and product:"
   ]
  },
  {
   "cell_type": "code",
   "execution_count": 9,
   "metadata": {
    "collapsed": false
   },
   "outputs": [],
   "source": [
    "upper_dict = {\n",
    "    \n",
    "  \"Jan\" : { \"Prod1\" : 500, \"Prod2\" : 1000, \"Prod3\" : 300, \"Prod4\" : 300, \"Prod5\" :  800, \"Prod6\" : 200, \"Prod7\" : 100 },\n",
    "  \"Feb\" : { \"Prod1\" : 600, \"Prod2\" :  500, \"Prod3\" : 200, \"Prod4\" :   0, \"Prod5\" :  400, \"Prod6\" : 300, \"Prod7\" : 150 },\n",
    "  \"Mar\" : { \"Prod1\" : 300, \"Prod2\" :  600, \"Prod3\" :   0, \"Prod4\" :   0, \"Prod5\" :  500, \"Prod6\" : 400, \"Prod7\" : 100 },\n",
    "  \"Apr\" : { \"Prod1\" : 200, \"Prod2\" :  300, \"Prod3\" : 400, \"Prod4\" : 500, \"Prod5\" :  200, \"Prod6\" :   0, \"Prod7\" : 100 },\n",
    "  \"May\" : { \"Prod1\" :   0, \"Prod2\" :  100, \"Prod3\" : 500, \"Prod4\" : 100, \"Prod5\" : 1000, \"Prod6\" : 300, \"Prod7\" :   0 },\n",
    "  \"Jun\" : { \"Prod1\" : 500, \"Prod2\" :  500, \"Prod3\" : 100, \"Prod4\" : 300, \"Prod5\" : 1100, \"Prod6\" : 500, \"Prod7\" :  60 }\n",
    "}\n",
    "\n",
    "upper = { (month, product) : upper_dict[month][product] for month in months for product in products }"
   ]
  },
  {
   "cell_type": "markdown",
   "metadata": {},
   "source": [
    "Constant parameters:"
   ]
  },
  {
   "cell_type": "code",
   "execution_count": 10,
   "metadata": {
    "collapsed": false
   },
   "outputs": [],
   "source": [
    "storeCost = 0.5\n",
    "storeCapacity = 100\n",
    "endStock = 50\n",
    "hoursPerMonth = 2*8*24"
   ]
  },
  {
   "cell_type": "markdown",
   "metadata": {},
   "source": [
    "### Model Generation\n",
    "\n",
    "Create empty named model object:"
   ]
  },
  {
   "cell_type": "code",
   "execution_count": 11,
   "metadata": {
    "collapsed": true
   },
   "outputs": [],
   "source": [
    "model = Model('Factory Planning')"
   ]
  },
  {
   "cell_type": "markdown",
   "metadata": {},
   "source": [
    "For each product (seven kinds of products) and each time period (month) we will create variables for the amount of which products get manufactured, held and sold. In each month there is an upper limit on the amount of each product that can be sold. \n",
    "\n",
    "Create and fill dictionaries of variables `manu` ($b_{t,p}$), `held` ($s_{t,p}$) and `sell` ($u_{t,p}$):"
   ]
  },
  {
   "cell_type": "code",
   "execution_count": 12,
   "metadata": {
    "collapsed": false
   },
   "outputs": [],
   "source": [
    "manu = model.addVars(months, products, name=\"manu\")\n",
    "held = model.addVars(months, products, name=\"held\", ub = storeCapacity)\n",
    "sell = model.addVars(months, products, name=\"sell\", ub = upper)"
   ]
  },
  {
   "cell_type": "markdown",
   "metadata": {},
   "source": [
    "Next, we create the balance constraints. The balance constraints ensure that the amount of product that is in the storage in the prior month and the amount that get manufactured equals the amount that is sold and held for each product in the current month. This makes sure that all products in the model are manufactured in some month. The initial storage is empty."
   ]
  },
  {
   "cell_type": "code",
   "execution_count": 13,
   "metadata": {
    "collapsed": false
   },
   "outputs": [],
   "source": [
    "model.addConstrs((manu[months[0], product] == sell[months[0], product] \n",
    "                  + held[months[0], product] for product in products), name=\"balance\")\n",
    "   \n",
    "model.addConstrs((held[months[month_index-1], product] + \n",
    "                 manu[month, product] == sell[month, product] + held[month, product] \n",
    "                 for product in products for month_index, month in enumerate(months) \n",
    "                 if month != months[0]), name=\"balance\");"
   ]
  },
  {
   "cell_type": "markdown",
   "metadata": {},
   "source": [
    "The endstore constraints force that at the end of the last month the storage contains the specified amount of each product."
   ]
  },
  {
   "cell_type": "code",
   "execution_count": 14,
   "metadata": {
    "collapsed": false
   },
   "outputs": [],
   "source": [
    "model.addConstrs((held[months[-1], product] == endStock for product in products),  name=\"End_Balance\");"
   ]
  },
  {
   "cell_type": "markdown",
   "metadata": {},
   "source": [
    "The capacity constraints ensure that for each month the time all products need on a certain kind of machine is lower or equal than the available hours for that type of machine in that month multiplied by the number of available machines in that period. Each product needs some machine hours on different machines. Each machine is down in one or more months due to maintenance, so the number and type of available machines varies per month. There can be multiple machines per machine type."
   ]
  },
  {
   "cell_type": "code",
   "execution_count": 15,
   "metadata": {
    "collapsed": false
   },
   "outputs": [],
   "source": [
    "model.addConstrs((quicksum(time_table[machine][product] * manu[month, product] \n",
    "    for product in time_table[machine]) <= hoursPerMonth * (qMachine[machine] - \n",
    "    down[month, machine]) for machine in machines for month in months \n",
    "    if (month, machine) in down), name = \"Capacity\")\n",
    "\n",
    "model.addConstrs((quicksum(time_table[machine][product] * manu[month, product] \n",
    "    for product in time_table[machine]) <= hoursPerMonth * qMachine[machine] \n",
    "    for machine in machines for month in months \n",
    "    if (month, machine) not in down), name = \"Capacity\");"
   ]
  },
  {
   "cell_type": "markdown",
   "metadata": {},
   "source": [
    "The objective is to maximize the profit of the company. It consists of the profit for each product minus cost for storing the unsold products. "
   ]
  },
  {
   "cell_type": "code",
   "execution_count": 16,
   "metadata": {
    "collapsed": true
   },
   "outputs": [],
   "source": [
    "obj = quicksum(\n",
    "    profit_contribution[product] * sell[month, product] - storeCost * held[month, product]\n",
    "    for month in months\n",
    "    for product in products\n",
    ")\n",
    "\n",
    "model.setObjective(obj, GRB.MAXIMIZE)"
   ]
  },
  {
   "cell_type": "markdown",
   "metadata": {},
   "source": [
    "# Solving the model"
   ]
  },
  {
   "cell_type": "code",
   "execution_count": 17,
   "metadata": {
    "collapsed": false
   },
   "outputs": [
    {
     "name": "stdout",
     "output_type": "stream",
     "text": [
      "Optimize a model with 79 rows, 126 columns and 288 nonzeros\n",
      "Coefficient statistics:\n",
      "  Matrix range     [1e-02, 1e+00]\n",
      "  Objective range  [5e-01, 1e+01]\n",
      "  Bounds range     [6e+01, 1e+03]\n",
      "  RHS range        [5e+01, 2e+03]\n",
      "Presolve removed 74 rows and 110 columns\n",
      "Presolve time: 0.01s\n",
      "Presolved: 5 rows, 16 columns, 21 nonzeros\n",
      "\n",
      "Iteration    Objective       Primal Inf.    Dual Inf.      Time\n",
      "       0    9.4425000e+04   1.440000e+02   0.000000e+00      0s\n",
      "       2    9.3715179e+04   0.000000e+00   0.000000e+00      0s\n",
      "\n",
      "Solved in 2 iterations and 0.02 seconds\n",
      "Optimal objective  9.371517857e+04\n"
     ]
    }
   ],
   "source": [
    "model.optimize()"
   ]
  },
  {
   "cell_type": "markdown",
   "metadata": {},
   "source": [
    "Display solution values for all variables (with non-zero values):"
   ]
  },
  {
   "cell_type": "code",
   "execution_count": 18,
   "metadata": {
    "collapsed": false,
    "scrolled": false
   },
   "outputs": [
    {
     "name": "stdout",
     "output_type": "stream",
     "text": [
      "\n",
      "    Variable            X \n",
      "-------------------------\n",
      "manu[Jan,Prod1]          500 \n",
      "manu[Jan,Prod2]      888.571 \n",
      "manu[Jan,Prod3]        382.5 \n",
      "manu[Jan,Prod4]          300 \n",
      "manu[Jan,Prod5]          800 \n",
      "manu[Jan,Prod6]          200 \n",
      "manu[Feb,Prod1]          700 \n",
      "manu[Feb,Prod2]          600 \n",
      "manu[Feb,Prod3]        117.5 \n",
      "manu[Feb,Prod5]          500 \n",
      "manu[Feb,Prod6]          300 \n",
      "manu[Feb,Prod7]          250 \n",
      "manu[Mar,Prod6]          400 \n",
      "manu[Apr,Prod1]          200 \n",
      "manu[Apr,Prod2]          300 \n",
      "manu[Apr,Prod3]          400 \n",
      "manu[Apr,Prod4]          500 \n",
      "manu[Apr,Prod5]          200 \n",
      "manu[Apr,Prod7]          100 \n",
      "manu[May,Prod2]          100 \n",
      "manu[May,Prod3]          600 \n",
      "manu[May,Prod4]          100 \n",
      "manu[May,Prod5]         1100 \n",
      "manu[May,Prod6]          300 \n",
      "manu[May,Prod7]          100 \n",
      "manu[Jun,Prod1]          550 \n",
      "manu[Jun,Prod2]          550 \n",
      "manu[Jun,Prod4]          350 \n",
      "manu[Jun,Prod6]          550 \n",
      "held[Jan,Prod3]         82.5 \n",
      "held[Feb,Prod1]          100 \n",
      "held[Feb,Prod2]          100 \n",
      "held[Feb,Prod5]          100 \n",
      "held[Feb,Prod7]          100 \n",
      "held[May,Prod3]          100 \n",
      "held[May,Prod5]          100 \n",
      "held[May,Prod7]          100 \n",
      "held[Jun,Prod1]           50 \n",
      "held[Jun,Prod2]           50 \n",
      "held[Jun,Prod3]           50 \n",
      "held[Jun,Prod4]           50 \n",
      "held[Jun,Prod5]           50 \n",
      "held[Jun,Prod6]           50 \n",
      "held[Jun,Prod7]           50 \n",
      "sell[Jan,Prod1]          500 \n",
      "sell[Jan,Prod2]      888.571 \n",
      "sell[Jan,Prod3]          300 \n",
      "sell[Jan,Prod4]          300 \n",
      "sell[Jan,Prod5]          800 \n",
      "sell[Jan,Prod6]          200 \n",
      "sell[Feb,Prod1]          600 \n",
      "sell[Feb,Prod2]          500 \n",
      "sell[Feb,Prod3]          200 \n",
      "sell[Feb,Prod5]          400 \n",
      "sell[Feb,Prod6]          300 \n",
      "sell[Feb,Prod7]          150 \n",
      "sell[Mar,Prod1]          100 \n",
      "sell[Mar,Prod2]          100 \n",
      "sell[Mar,Prod5]          100 \n",
      "sell[Mar,Prod6]          400 \n",
      "sell[Mar,Prod7]          100 \n",
      "sell[Apr,Prod1]          200 \n",
      "sell[Apr,Prod2]          300 \n",
      "sell[Apr,Prod3]          400 \n",
      "sell[Apr,Prod4]          500 \n",
      "sell[Apr,Prod5]          200 \n",
      "sell[Apr,Prod7]          100 \n",
      "sell[May,Prod2]          100 \n",
      "sell[May,Prod3]          500 \n",
      "sell[May,Prod4]          100 \n",
      "sell[May,Prod5]         1000 \n",
      "sell[May,Prod6]          300 \n",
      "sell[Jun,Prod1]          500 \n",
      "sell[Jun,Prod2]          500 \n",
      "sell[Jun,Prod3]           50 \n",
      "sell[Jun,Prod4]          300 \n",
      "sell[Jun,Prod5]           50 \n",
      "sell[Jun,Prod6]          500 \n",
      "sell[Jun,Prod7]           50 \n"
     ]
    }
   ],
   "source": [
    "model.printAttr('X')"
   ]
  },
  {
   "cell_type": "markdown",
   "metadata": {},
   "source": [
    "Now, we create a nice overview per month in an HTML table:"
   ]
  },
  {
   "cell_type": "code",
   "execution_count": 19,
   "metadata": {
    "collapsed": false
   },
   "outputs": [
    {
     "data": {
      "text/html": [
       "<h1>Production plan</h1><table><tr><td></td><td><b>Manufacture</b></td><td><b>Sell</b></td><td><b>Hold</b></td></tr><tr><td><b>Jan</b></td><td style='text-align: right'><b>500.0</b> units of <b>Prod1</b><br/><b>888.6</b> units of <b>Prod2</b><br/><b>382.5</b> units of <b>Prod3</b><br/><b>300.0</b> units of <b>Prod4</b><br/><b>800.0</b> units of <b>Prod5</b><br/><b>200.0</b> units of <b>Prod6</b><br/></td><td style='text-align: right'><b>500.0</b> units of <b>Prod1</b><br/><b>888.6</b> units of <b>Prod2</b><br/><b>300.0</b> units of <b>Prod3</b><br/><b>300.0</b> units of <b>Prod4</b><br/><b>800.0</b> units of <b>Prod5</b><br/><b>200.0</b> units of <b>Prod6</b><br/></td><td style='text-align: right'><b>82.5</b> units of <b>Prod3</b><br/></td></tr><tr><td><b>Feb</b></td><td style='text-align: right'><b>700.0</b> units of <b>Prod1</b><br/><b>600.0</b> units of <b>Prod2</b><br/><b>117.5</b> units of <b>Prod3</b><br/><b>500.0</b> units of <b>Prod5</b><br/><b>300.0</b> units of <b>Prod6</b><br/><b>250.0</b> units of <b>Prod7</b><br/></td><td style='text-align: right'><b>600.0</b> units of <b>Prod1</b><br/><b>500.0</b> units of <b>Prod2</b><br/><b>200.0</b> units of <b>Prod3</b><br/><b>400.0</b> units of <b>Prod5</b><br/><b>300.0</b> units of <b>Prod6</b><br/><b>150.0</b> units of <b>Prod7</b><br/></td><td style='text-align: right'><b>100.0</b> units of <b>Prod1</b><br/><b>100.0</b> units of <b>Prod2</b><br/><b>100.0</b> units of <b>Prod5</b><br/><b>100.0</b> units of <b>Prod7</b><br/></td></tr><tr><td><b>Mar</b></td><td style='text-align: right'><b>400.0</b> units of <b>Prod6</b><br/></td><td style='text-align: right'><b>100.0</b> units of <b>Prod1</b><br/><b>100.0</b> units of <b>Prod2</b><br/><b>100.0</b> units of <b>Prod5</b><br/><b>400.0</b> units of <b>Prod6</b><br/><b>100.0</b> units of <b>Prod7</b><br/></td><td style='text-align: right'></td></tr><tr><td><b>Apr</b></td><td style='text-align: right'><b>200.0</b> units of <b>Prod1</b><br/><b>300.0</b> units of <b>Prod2</b><br/><b>400.0</b> units of <b>Prod3</b><br/><b>500.0</b> units of <b>Prod4</b><br/><b>200.0</b> units of <b>Prod5</b><br/><b>100.0</b> units of <b>Prod7</b><br/></td><td style='text-align: right'><b>200.0</b> units of <b>Prod1</b><br/><b>300.0</b> units of <b>Prod2</b><br/><b>400.0</b> units of <b>Prod3</b><br/><b>500.0</b> units of <b>Prod4</b><br/><b>200.0</b> units of <b>Prod5</b><br/><b>100.0</b> units of <b>Prod7</b><br/></td><td style='text-align: right'></td></tr><tr><td><b>May</b></td><td style='text-align: right'><b>100.0</b> units of <b>Prod2</b><br/><b>600.0</b> units of <b>Prod3</b><br/><b>100.0</b> units of <b>Prod4</b><br/><b>1100.0</b> units of <b>Prod5</b><br/><b>300.0</b> units of <b>Prod6</b><br/><b>100.0</b> units of <b>Prod7</b><br/></td><td style='text-align: right'><b>100.0</b> units of <b>Prod2</b><br/><b>500.0</b> units of <b>Prod3</b><br/><b>100.0</b> units of <b>Prod4</b><br/><b>1000.0</b> units of <b>Prod5</b><br/><b>300.0</b> units of <b>Prod6</b><br/></td><td style='text-align: right'><b>100.0</b> units of <b>Prod3</b><br/><b>100.0</b> units of <b>Prod5</b><br/><b>100.0</b> units of <b>Prod7</b><br/></td></tr><tr><td><b>Jun</b></td><td style='text-align: right'><b>550.0</b> units of <b>Prod1</b><br/><b>550.0</b> units of <b>Prod2</b><br/><b>350.0</b> units of <b>Prod4</b><br/><b>550.0</b> units of <b>Prod6</b><br/></td><td style='text-align: right'><b>500.0</b> units of <b>Prod1</b><br/><b>500.0</b> units of <b>Prod2</b><br/><b>50.0</b> units of <b>Prod3</b><br/><b>300.0</b> units of <b>Prod4</b><br/><b>50.0</b> units of <b>Prod5</b><br/><b>500.0</b> units of <b>Prod6</b><br/><b>50.0</b> units of <b>Prod7</b><br/></td><td style='text-align: right'><b>50.0</b> units of <b>Prod1</b><br/><b>50.0</b> units of <b>Prod2</b><br/><b>50.0</b> units of <b>Prod3</b><br/><b>50.0</b> units of <b>Prod4</b><br/><b>50.0</b> units of <b>Prod5</b><br/><b>50.0</b> units of <b>Prod6</b><br/><b>50.0</b> units of <b>Prod7</b><br/></td></tr></table>"
      ],
      "text/plain": [
       "<IPython.core.display.HTML object>"
      ]
     },
     "metadata": {},
     "output_type": "display_data"
    }
   ],
   "source": [
    "output = \"<h1>Production plan</h1><table><tr><td></td><td><b>Manufacture</b></td><td><b>Sell</b></td><td><b>Hold</b></td></tr>\"\n",
    "\n",
    "for month in months:\n",
    "\n",
    "    output += \"<tr><td><b>{}</b></td><td style='text-align: right'>\".format(month)\n",
    "    \n",
    "    # Manufacture\n",
    "    for product in products:\n",
    "        if manu[month, product].X > 0:\n",
    "            output += \"<b>{:.1f}</b> units of <b>{}</b><br/>\".format(manu[month, product].X, product)\n",
    "      \n",
    "    # Sell\n",
    "    output += \"</td><td style='text-align: right'>\"\n",
    "    for product in products:\n",
    "        if sell[month, product].X > 0:\n",
    "            output += \"<b>{:.1f}</b> units of <b>{}</b><br/>\".format(sell[month, product].X, product)\n",
    "            \n",
    "    # Hold\n",
    "    output += \"</td><td style='text-align: right'>\"\n",
    "    for product in products:\n",
    "        if held[month, product].X > 0:\n",
    "            output += \"<b>{:.1f}</b> units of <b>{}</b><br/>\".format(held[month, product].X, product)\n",
    "            \n",
    "    output += \"</td></tr>\"\n",
    "    \n",
    "output += \"</table>\"\n",
    "\n",
    "from IPython.display import HTML, display\n",
    "display(HTML(output))"
   ]
  }
 ],
 "metadata": {
  "anaconda-cloud": {},
  "kernelspec": {
   "display_name": "Python [webinar]",
   "language": "python",
   "name": "Python [webinar]"
  },
  "language_info": {
   "codemirror_mode": {
    "name": "ipython",
    "version": 2
   },
   "file_extension": ".py",
   "mimetype": "text/x-python",
   "name": "python",
   "nbconvert_exporter": "python",
   "pygments_lexer": "ipython2",
   "version": "2.7.12"
  },
  "nbpresent": {
   "slides": {
    "186f5a6b-2f4f-4810-9031-a355cb9b58d9": {
     "id": "186f5a6b-2f4f-4810-9031-a355cb9b58d9",
     "prev": "e306545e-7fd6-47f6-a6b7-9bbbd2f27289",
     "regions": {}
    },
    "1f1d886f-101b-4bb6-a46c-b805cbde66ed": {
     "id": "1f1d886f-101b-4bb6-a46c-b805cbde66ed",
     "prev": "312e27ad-e418-4310-a3cb-cec97bc21e5f",
     "regions": {
      "97e7af79-87d5-4274-a989-159065ca185f": {
       "attrs": {
        "height": 0.8,
        "width": 0.8,
        "x": 0.1,
        "y": 0.1
       },
       "content": {
        "cell": "30157f33-8d1c-416b-9f88-f4ca6747063b",
        "part": "whole"
       },
       "id": "97e7af79-87d5-4274-a989-159065ca185f"
      }
     }
    },
    "25b82577-e4e0-4bc4-8684-31ce9b9fe9eb": {
     "id": "25b82577-e4e0-4bc4-8684-31ce9b9fe9eb",
     "layout": "manual",
     "prev": null,
     "regions": {
      "39826a0c-0845-4fa6-983f-fa88df09a383": {
       "attrs": {
        "height": 0.7177304964539007,
        "width": 0.9053191489361704,
        "x": 0.04494680851063829,
        "y": 0.23900709219858157
       },
       "content": {
        "cell": "e707e591-0c39-4365-9fec-6c7687f3a21d",
        "part": "source"
       },
       "id": "39826a0c-0845-4fa6-983f-fa88df09a383"
      },
      "adf00727-23d0-461d-9fc2-872e7054e0f6": {
       "attrs": {
        "height": 0.15177304964539007,
        "width": 0.9675531914893616,
        "x": 0.015425531914893738,
        "y": 0.03049645390070922
       },
       "content": {
        "cell": "34bc9e52-9cc7-4b84-9eb7-b69310832121",
        "part": "source"
       },
       "id": "adf00727-23d0-461d-9fc2-872e7054e0f6"
      }
     },
     "theme": null
    },
    "312e27ad-e418-4310-a3cb-cec97bc21e5f": {
     "id": "312e27ad-e418-4310-a3cb-cec97bc21e5f",
     "prev": "9b013ffc-acd5-4452-add0-4543e34c7955",
     "regions": {
      "94f8428b-8539-4609-84be-2c30160a99f2": {
       "attrs": {
        "height": 0.8,
        "width": 0.8,
        "x": 0.1,
        "y": 0.1
       },
       "content": {
        "cell": "a93d55f0-8415-494f-937c-5b4c5e4a83ec",
        "part": "whole"
       },
       "id": "94f8428b-8539-4609-84be-2c30160a99f2"
      }
     }
    },
    "6dbc2427-3519-4d05-8a12-d2342824f17d": {
     "id": "6dbc2427-3519-4d05-8a12-d2342824f17d",
     "prev": "b585ea08-0f7c-4b29-bffd-d0527c18339f",
     "regions": {
      "651a7f56-6b3e-4344-a5da-a929f0b5d0b6": {
       "attrs": {
        "height": 0.8,
        "width": 0.8,
        "x": 0.1,
        "y": 0.1
       },
       "content": {
        "cell": "6c79fc98-c9ba-4870-ad1d-094702d23aec",
        "part": "whole"
       },
       "id": "651a7f56-6b3e-4344-a5da-a929f0b5d0b6"
      }
     }
    },
    "981cc8e9-c72a-4200-ba0c-cbba24938055": {
     "id": "981cc8e9-c72a-4200-ba0c-cbba24938055",
     "prev": "186f5a6b-2f4f-4810-9031-a355cb9b58d9",
     "regions": {
      "502bcc7b-9811-4106-ae49-1237986be9f2": {
       "attrs": {
        "height": 0.8,
        "width": 0.8,
        "x": 0.1,
        "y": 0.1
       },
       "content": {
        "cell": "8a0f32e0-5615-48df-965e-5f4dcd790eb7",
        "part": "whole"
       },
       "id": "502bcc7b-9811-4106-ae49-1237986be9f2"
      }
     }
    },
    "9b013ffc-acd5-4452-add0-4543e34c7955": {
     "id": "9b013ffc-acd5-4452-add0-4543e34c7955",
     "prev": "9b092894-7141-4f0c-a1b0-f3223173c018",
     "regions": {
      "d3dc95f4-b7e9-404f-bc67-6eb1ae1bd15a": {
       "attrs": {
        "height": 0.8,
        "width": 0.8,
        "x": 0.1,
        "y": 0.1
       },
       "content": {
        "cell": "14663cbf-e197-4624-8d02-8164aeab630e",
        "part": "whole"
       },
       "id": "d3dc95f4-b7e9-404f-bc67-6eb1ae1bd15a"
      }
     }
    },
    "9b092894-7141-4f0c-a1b0-f3223173c018": {
     "id": "9b092894-7141-4f0c-a1b0-f3223173c018",
     "prev": "981cc8e9-c72a-4200-ba0c-cbba24938055",
     "regions": {
      "ed06157c-045c-42f1-a221-e81b0c9b1c96": {
       "attrs": {
        "height": 0.8,
        "width": 0.8,
        "x": 0.1,
        "y": 0.1
       },
       "content": {
        "cell": "25919802-1e86-4e96-97ac-f937e5445970",
        "part": "whole"
       },
       "id": "ed06157c-045c-42f1-a221-e81b0c9b1c96"
      }
     }
    },
    "b585ea08-0f7c-4b29-bffd-d0527c18339f": {
     "id": "b585ea08-0f7c-4b29-bffd-d0527c18339f",
     "prev": "c5e3a931-78de-4da1-9aae-6a07a68da267",
     "regions": {
      "dda9817a-0e58-4e1c-aa40-e346883da21d": {
       "attrs": {
        "height": 0.8,
        "width": 0.8,
        "x": 0.1,
        "y": 0.1
       },
       "content": {
        "cell": "c04d243e-3547-4535-bd84-fe6e2e450a76",
        "part": "whole"
       },
       "id": "dda9817a-0e58-4e1c-aa40-e346883da21d"
      }
     }
    },
    "c5e3a931-78de-4da1-9aae-6a07a68da267": {
     "id": "c5e3a931-78de-4da1-9aae-6a07a68da267",
     "prev": "25b82577-e4e0-4bc4-8684-31ce9b9fe9eb",
     "regions": {
      "0ad951b9-da76-49b6-96a1-cae40a43d4bf": {
       "attrs": {
        "height": 0.8,
        "width": 0.8,
        "x": 0.1,
        "y": 0.1
       },
       "id": "0ad951b9-da76-49b6-96a1-cae40a43d4bf"
      }
     }
    },
    "e306545e-7fd6-47f6-a6b7-9bbbd2f27289": {
     "id": "e306545e-7fd6-47f6-a6b7-9bbbd2f27289",
     "prev": "e6ba3e35-cc6a-4768-b053-0072595ab40b",
     "regions": {}
    },
    "e6ba3e35-cc6a-4768-b053-0072595ab40b": {
     "id": "e6ba3e35-cc6a-4768-b053-0072595ab40b",
     "prev": "6dbc2427-3519-4d05-8a12-d2342824f17d",
     "regions": {
      "eeea6e33-6efd-48be-9cc1-dffe2841b64b": {
       "attrs": {
        "height": 0.8,
        "width": 0.8,
        "x": 0.1,
        "y": 0.1
       },
       "content": {
        "cell": "94a21acb-2f9e-44dd-84e2-4b388545c355",
        "part": "whole"
       },
       "id": "eeea6e33-6efd-48be-9cc1-dffe2841b64b"
      }
     }
    }
   },
   "themes": {}
  }
 },
 "nbformat": 4,
 "nbformat_minor": 0
}
