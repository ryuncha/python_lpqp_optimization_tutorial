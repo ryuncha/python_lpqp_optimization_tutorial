{
 "cells": [
  {
   "cell_type": "markdown",
   "metadata": {},
   "source": [
    "# CVXPY\n",
    "\n",
    "## 발전량 최적화 (LP & QP)\n",
    "\n",
    "- 간단한 LP 및 QP 구현 예시\n",
    "- 작성자 : 차지원 (ryunx21@gmail.com)\n",
    "- 발표자료 : https://www.slideshare.net/JiwonCha3/pyconkr-2019-164237844\n",
    "\n",
    "![ex_screenshot](../image/example.png)"
   ]
  },
  {
   "cell_type": "code",
   "execution_count": 1,
   "metadata": {},
   "outputs": [
    {
     "data": {
      "text/plain": [
       "['CVXOPT', 'ECOS', 'ECOS_BB', 'GLPK', 'GLPK_MI', 'OSQP', 'SCS']"
      ]
     },
     "execution_count": 1,
     "metadata": {},
     "output_type": "execute_result"
    }
   ],
   "source": [
    "import cvxpy as cp\n",
    "import numpy as np\n",
    "\n",
    "# 현재 사용 가능한 솔버 확인\n",
    "cp.installed_solvers()"
   ]
  },
  {
   "cell_type": "code",
   "execution_count": 2,
   "metadata": {},
   "outputs": [],
   "source": [
    "# 변수 선언, p는 0 또는 양수\n",
    "p = cp.Variable(3, nonneg=True)\n",
    "\n",
    "# 제약조건\n",
    "constraints = list()\n",
    "\n",
    "# 설비제약 (elemental wise)\n",
    "constraints.append(p[0] >= 500)\n",
    "constraints.append(p[0] <= 1000)\n",
    "constraints.append(p[1] >= 300)\n",
    "constraints.append(p[1] <= 500)\n",
    "constraints.append(p[2] >= 0)\n",
    "constraints.append(p[2] <= 200)\n",
    "\n",
    "# 수급제약\n",
    "# 등식 제약으로 넣어도 되지만, 목적함수에서 p를 최소화하기 때문에\n",
    "# 수렴성을 위해 relaxation 했음\n",
    "constraints.append(cp.sum(p) >= 1400)\n",
    "\n",
    "# 목적함수\n",
    "obj = cp.Minimize(20*p[0] + 40*p[1] + 10*p[2])\n",
    "\n",
    "prob = cp.Problem(obj, constraints)"
   ]
  },
  {
   "cell_type": "code",
   "execution_count": 3,
   "metadata": {},
   "outputs": [
    {
     "name": "stdout",
     "output_type": "stream",
     "text": [
      "[900. 300. 200.]\n"
     ]
    }
   ],
   "source": [
    "prob.solve(solver='GLPK')\n",
    "print(p.value)\n",
    "# [900. 300. 200.]"
   ]
  },
  {
   "cell_type": "code",
   "execution_count": 4,
   "metadata": {},
   "outputs": [
    {
     "name": "stdout",
     "output_type": "stream",
     "text": [
      "[900. 300. 200.]\n"
     ]
    }
   ],
   "source": [
    "prob.solve(solver='OSQP')\n",
    "print(p.value)\n",
    "# [900. 300. 200.]"
   ]
  },
  {
   "cell_type": "code",
   "execution_count": 5,
   "metadata": {},
   "outputs": [
    {
     "name": "stdout",
     "output_type": "stream",
     "text": [
      "[899.9999985  299.99999262 200.00000273]\n"
     ]
    }
   ],
   "source": [
    "prob.solve(solver='CVXOPT')\n",
    "print(p.value)\n",
    "#[899.9999985  299.99999262 200.00000273]"
   ]
  },
  {
   "cell_type": "code",
   "execution_count": 6,
   "metadata": {},
   "outputs": [
    {
     "name": "stdout",
     "output_type": "stream",
     "text": [
      "[899.99999998 299.9999999  200.00000004]\n"
     ]
    }
   ],
   "source": [
    "prob.solve(solver='ECOS')\n",
    "print(p.value)\n",
    "# [899.99999998 299.9999999  200.00000004]"
   ]
  },
  {
   "cell_type": "markdown",
   "metadata": {},
   "source": [
    "# CVXPY expr 사용을 통한 수식 간략화"
   ]
  },
  {
   "cell_type": "code",
   "execution_count": 7,
   "metadata": {},
   "outputs": [],
   "source": [
    "# 변수 선언, p는 0 또는 양수\n",
    "p = cp.Variable(3,nonneg=True)\n",
    "\n",
    "# 제약조건 리스트\n",
    "constraints = list()\n",
    "\n",
    "# 수급제약\n",
    "constraints.append(\n",
    "    cp.sum(p) >= 1400)\n",
    "\n",
    "# 설비제약 (간단하게)\n",
    "constraints.append(p>=[500,300,0])\n",
    "constraints.append(p<=[1000,500,200])\n",
    "\n",
    "# 목적함수(QP) (C1:1차, C2:2차계수)\n",
    "c1 = np.array([20,40,10])\n",
    "c2 = np.array([0.1,0.04,0.01])\n",
    "obj = cp.Minimize(\n",
    "    cp.sum(p*c1)\n",
    "    +cp.sum(cp.sum_squares(p)*c2))\n",
    "\n",
    "prob = cp.Problem(obj, constraints)"
   ]
  },
  {
   "cell_type": "code",
   "execution_count": 8,
   "metadata": {},
   "outputs": [
    {
     "name": "stdout",
     "output_type": "stream",
     "text": [
      "[700. 500. 200.]\n"
     ]
    }
   ],
   "source": [
    "prob.solve(solver='OSQP')\n",
    "print(p.value)\n",
    "# [700. 500. 200.]"
   ]
  }
 ],
 "metadata": {
  "kernelspec": {
   "display_name": "Python 3",
   "language": "python",
   "name": "python3"
  },
  "language_info": {
   "codemirror_mode": {
    "name": "ipython",
    "version": 3
   },
   "file_extension": ".py",
   "mimetype": "text/x-python",
   "name": "python",
   "nbconvert_exporter": "python",
   "pygments_lexer": "ipython3",
   "version": "3.7.3"
  }
 },
 "nbformat": 4,
 "nbformat_minor": 2
}
